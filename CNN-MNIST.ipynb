{
 "cells": [
  {
   "cell_type": "code",
   "execution_count": 12,
   "metadata": {},
   "outputs": [],
   "source": [
    "import numpy as np\n",
    "import pandas as pd\n",
    "import matplotlib.pyplot as plt\n",
    "import tensorflow as tf\n",
    "import cv2\n",
    "import os\n",
    "from tensorflow.python.framework import ops\n",
    "ops.reset_default_graph()"
   ]
  },
  {
   "cell_type": "code",
   "execution_count": 13,
   "metadata": {},
   "outputs": [],
   "source": [
    "#import datsets from tensorflow-mnist\n",
    "from tensorflow.contrib.learn.python.learn.datasets.mnist import read_data_sets"
   ]
  },
  {
   "cell_type": "code",
   "execution_count": 14,
   "metadata": {},
   "outputs": [
    {
     "name": "stdout",
     "output_type": "stream",
     "text": [
      "Extracting temp\\train-images-idx3-ubyte.gz\n",
      "Extracting temp\\train-labels-idx1-ubyte.gz\n",
      "Extracting temp\\t10k-images-idx3-ubyte.gz\n",
      "Extracting temp\\t10k-labels-idx1-ubyte.gz\n"
     ]
    }
   ],
   "source": [
    "#load data\n",
    "data_dir = 'temp'\n",
    "mnist = read_data_sets(data_dir)\n",
    "\n",
    "#convert data into 28*28\n",
    "train_xdata = np.array([np.reshape(x,(28,28)) for x in mnist.train.images])\n",
    "test_xdata = np.array([np.reshape(x, (28,28)) for x in mnist.test.images])\n",
    "\n",
    "#convert lables one-hot-encoder\n",
    "train_lables = mnist.train.labels\n",
    "test_lables = mnist.test.labels\n"
   ]
  },
  {
   "cell_type": "code",
   "execution_count": 15,
   "metadata": {},
   "outputs": [],
   "source": [
    "#create a graph\n",
    "sess = tf.Session()\n",
    "\n",
    "#set model parameters\n",
    "batch_size = 100\n",
    "learning_rate = 0.005\n",
    "evaluation_size = 500\n",
    "image_width = 28\n",
    "image_height = 28\n",
    "target_size = max(train_lables)+1 #10\n",
    "num_channels = 1\n",
    "generations = 500\n",
    "eval_every = 5\n",
    "conv1_features = 25\n",
    "conv2_features = 50\n",
    "max_pool1 = 2\n",
    "max_pool2 = 2\n",
    "fully_connected_size1 = 100\n",
    "\n",
    "#model placehoders\n",
    "x_input_shape = (batch_size, image_width,image_height,num_channels)\n",
    "x_input = tf.placeholder(dtype=tf.float32, shape=x_input_shape)\n",
    "y_target = tf.placeholder(dtype=tf.int32, shape=(batch_size))\n",
    "\n",
    "eval_input_shape = (evaluation_size, image_width, image_height, num_channels)\n",
    "eval_input = tf.placeholder(dtype=tf.float32, shape=(eval_input_shape))\n",
    "eval_target = tf.placeholder(dtype=tf.int32, shape=(evaluation_size))\n",
    "\n",
    "\n",
    "#model parameters\n",
    "\n",
    "conv1_weights = tf.Variable(tf.truncated_normal([4,4,num_channels,conv1_features], stddev=0.1, dtype=tf.float32))\n",
    "conv1_bias = tf.Variable(tf.zeros([conv1_features], dtype=tf.float32))\n",
    "                         \n",
    "conv2_weights = tf.Variable(tf.truncated_normal([4,4,conv1_features,conv2_features], stddev=0.1, dtype=tf.float32))\n",
    "conv2_bias = tf.Variable(tf.zeros([conv2_features],dtype=tf.float32))\n",
    "\n",
    "#fully_conected variables\n",
    "resulting_width = image_width // (max_pool1 * max_pool2)\n",
    "resulting_height = image_height // (max_pool1 * max_pool2)\n",
    "full1_input_shape = resulting_height * resulting_width * conv2_features\n",
    "\n",
    "full1_weights = tf.Variable(tf.truncated_normal([full1_input_shape, fully_connected_size1], stddev=0.1, dtype=tf.float32))\n",
    "full1_bias = tf.Variable(tf.truncated_normal([fully_connected_size1], stddev=0.1, dtype=tf.float32))\n",
    "\n",
    "full2_weights = tf.Variable(tf.truncated_normal([fully_connected_size1, target_size], stddev=0.1, dtype=tf.float32))\n",
    "full2_bias = tf.Variable(tf.truncated_normal([target_size], stddev=0.1, dtype=tf.float32))                       "
   ]
  },
  {
   "cell_type": "code",
   "execution_count": 16,
   "metadata": {},
   "outputs": [],
   "source": [
    "#initialize model operation\n",
    "def my_conv_net(input_data):\n",
    "    #1st conv-relu-maxpool layer \n",
    "    conv1 = tf.nn.conv2d(input_data,conv1_weights, strides=[1,1,1,1], padding='SAME')\n",
    "    relu1 = tf.nn.relu(tf.nn.bias_add(conv1, conv1_bias))\n",
    "    max_pool_layer1 = tf.nn.max_pool(relu1, ksize=[1, max_pool1,max_pool1,1], strides=[1,max_pool1, max_pool1,1], padding='SAME')\n",
    "    \n",
    "    #2nd layer\n",
    "    conv2 = tf.nn.conv2d(max_pool_layer1, conv2_weights, strides=[1,1,1,1], padding='SAME')\n",
    "    relu2 = tf.nn.relu(tf.nn.bias_add(conv2,conv2_bias))\n",
    "    max_pool_layer2 = tf.nn.max_pool(relu2, ksize=[1, max_pool2,max_pool2,1], strides=[1,max_pool2, max_pool2,1], padding='SAME')\n",
    "    \n",
    "    #transfer o/p into 1*N\n",
    "    final_conv_shape = max_pool_layer2.get_shape().as_list()\n",
    "    final_shape = final_conv_shape[1] * final_conv_shape[2] * final_conv_shape[3]\n",
    "    flat_output = tf.reshape(max_pool_layer2, [final_conv_shape[0], final_shape])\n",
    "    \n",
    "    #fully-connected layer \n",
    "    fully_conneceted1 = tf.nn.relu(tf.add(tf.matmul(flat_output, full1_weights), full1_bias))\n",
    "    final_model_output = tf.nn.relu(tf.add(tf.matmul(fully_conneceted1, full2_weights), full2_bias))\n",
    "    \n",
    "    return(final_model_output)\n",
    "\n",
    "model_output = my_conv_net(x_input)\n",
    "test_model_output = my_conv_net(eval_input)\n",
    "    "
   ]
  },
  {
   "cell_type": "code",
   "execution_count": 17,
   "metadata": {},
   "outputs": [],
   "source": [
    "#loss function\n",
    "loss = tf.reduce_mean(tf.nn.sparse_softmax_cross_entropy_with_logits(logits=model_output, labels=y_target))\n",
    "\n",
    "#create an optimizer\n",
    "my_optimizer = tf.train.MomentumOptimizer(learning_rate, 0.9)\n",
    "train_step = my_optimizer.minimize(loss)\n",
    "\n",
    "#create pred func\n",
    "prediction = tf.nn.softmax(model_output)\n",
    "test_prediction = tf.nn.softmax(test_model_output)\n",
    "\n",
    "# Create accuracy function\n",
    "def get_accuracy(logits, targets):\n",
    "    batch_predictions = np.argmax(logits, axis=1)\n",
    "    num_correct = np.sum(np.equal(batch_predictions, targets))\n",
    "    return(100. * num_correct/batch_predictions.shape[0])"
   ]
  },
  {
   "cell_type": "code",
   "execution_count": 18,
   "metadata": {},
   "outputs": [],
   "source": [
    "#initialize variables\n",
    "init = tf.global_variables_initializer()\n",
    "sess.run(init)"
   ]
  },
  {
   "cell_type": "code",
   "execution_count": 21,
   "metadata": {},
   "outputs": [
    {
     "name": "stdout",
     "output_type": "stream",
     "text": [
      "Generation # 5. Train Loss: 2.26. Train Acc (Test Acc): 20.00 (21.20)\n",
      "Generation # 10. Train Loss: 2.20. Train Acc (Test Acc): 24.00 (31.40)\n",
      "Generation # 15. Train Loss: 2.07. Train Acc (Test Acc): 34.00 (33.00)\n",
      "Generation # 20. Train Loss: 2.14. Train Acc (Test Acc): 26.00 (28.40)\n",
      "Generation # 25. Train Loss: 1.89. Train Acc (Test Acc): 41.00 (34.80)\n",
      "Generation # 30. Train Loss: 1.80. Train Acc (Test Acc): 44.00 (39.60)\n",
      "Generation # 35. Train Loss: 1.83. Train Acc (Test Acc): 36.00 (42.60)\n",
      "Generation # 40. Train Loss: 1.63. Train Acc (Test Acc): 50.00 (44.40)\n",
      "Generation # 45. Train Loss: 1.82. Train Acc (Test Acc): 37.00 (48.00)\n",
      "Generation # 50. Train Loss: 1.56. Train Acc (Test Acc): 51.00 (57.00)\n",
      "Generation # 55. Train Loss: 1.29. Train Acc (Test Acc): 64.00 (57.80)\n",
      "Generation # 60. Train Loss: 1.20. Train Acc (Test Acc): 63.00 (57.80)\n",
      "Generation # 65. Train Loss: 0.93. Train Acc (Test Acc): 75.00 (61.80)\n",
      "Generation # 70. Train Loss: 0.93. Train Acc (Test Acc): 74.00 (69.80)\n",
      "Generation # 75. Train Loss: 0.86. Train Acc (Test Acc): 72.00 (69.60)\n",
      "Generation # 80. Train Loss: 0.93. Train Acc (Test Acc): 68.00 (71.20)\n",
      "Generation # 85. Train Loss: 1.03. Train Acc (Test Acc): 65.00 (74.20)\n",
      "Generation # 90. Train Loss: 0.76. Train Acc (Test Acc): 77.00 (75.20)\n",
      "Generation # 95. Train Loss: 1.02. Train Acc (Test Acc): 70.00 (74.80)\n",
      "Generation # 100. Train Loss: 0.76. Train Acc (Test Acc): 78.00 (77.40)\n",
      "Generation # 105. Train Loss: 0.72. Train Acc (Test Acc): 76.00 (76.40)\n",
      "Generation # 110. Train Loss: 0.50. Train Acc (Test Acc): 84.00 (79.00)\n",
      "Generation # 115. Train Loss: 0.61. Train Acc (Test Acc): 80.00 (81.60)\n",
      "Generation # 120. Train Loss: 0.70. Train Acc (Test Acc): 76.00 (82.60)\n",
      "Generation # 125. Train Loss: 0.39. Train Acc (Test Acc): 87.00 (81.40)\n",
      "Generation # 130. Train Loss: 0.58. Train Acc (Test Acc): 84.00 (85.00)\n",
      "Generation # 135. Train Loss: 0.50. Train Acc (Test Acc): 84.00 (83.00)\n",
      "Generation # 140. Train Loss: 0.35. Train Acc (Test Acc): 86.00 (84.40)\n",
      "Generation # 145. Train Loss: 0.52. Train Acc (Test Acc): 82.00 (82.20)\n",
      "Generation # 150. Train Loss: 0.46. Train Acc (Test Acc): 85.00 (83.40)\n",
      "Generation # 155. Train Loss: 0.53. Train Acc (Test Acc): 84.00 (82.40)\n",
      "Generation # 160. Train Loss: 0.65. Train Acc (Test Acc): 80.00 (86.40)\n",
      "Generation # 165. Train Loss: 0.57. Train Acc (Test Acc): 84.00 (86.40)\n",
      "Generation # 170. Train Loss: 0.42. Train Acc (Test Acc): 87.00 (86.20)\n",
      "Generation # 175. Train Loss: 0.38. Train Acc (Test Acc): 88.00 (87.20)\n",
      "Generation # 180. Train Loss: 0.49. Train Acc (Test Acc): 83.00 (83.80)\n",
      "Generation # 185. Train Loss: 0.39. Train Acc (Test Acc): 88.00 (83.20)\n",
      "Generation # 190. Train Loss: 0.50. Train Acc (Test Acc): 82.00 (81.00)\n",
      "Generation # 195. Train Loss: 0.48. Train Acc (Test Acc): 84.00 (86.80)\n",
      "Generation # 200. Train Loss: 0.35. Train Acc (Test Acc): 88.00 (84.40)\n",
      "Generation # 205. Train Loss: 0.55. Train Acc (Test Acc): 81.00 (83.20)\n",
      "Generation # 210. Train Loss: 0.39. Train Acc (Test Acc): 89.00 (88.40)\n",
      "Generation # 215. Train Loss: 0.47. Train Acc (Test Acc): 82.00 (86.00)\n",
      "Generation # 220. Train Loss: 0.47. Train Acc (Test Acc): 85.00 (82.40)\n",
      "Generation # 225. Train Loss: 0.53. Train Acc (Test Acc): 83.00 (85.20)\n",
      "Generation # 230. Train Loss: 0.58. Train Acc (Test Acc): 78.00 (85.60)\n",
      "Generation # 235. Train Loss: 0.45. Train Acc (Test Acc): 83.00 (85.20)\n",
      "Generation # 240. Train Loss: 0.39. Train Acc (Test Acc): 84.00 (85.80)\n",
      "Generation # 245. Train Loss: 0.43. Train Acc (Test Acc): 86.00 (85.20)\n",
      "Generation # 250. Train Loss: 0.44. Train Acc (Test Acc): 86.00 (84.40)\n",
      "Generation # 255. Train Loss: 0.36. Train Acc (Test Acc): 88.00 (85.20)\n",
      "Generation # 260. Train Loss: 0.37. Train Acc (Test Acc): 86.00 (83.80)\n",
      "Generation # 265. Train Loss: 0.33. Train Acc (Test Acc): 86.00 (85.20)\n",
      "Generation # 270. Train Loss: 0.51. Train Acc (Test Acc): 84.00 (86.00)\n",
      "Generation # 275. Train Loss: 0.54. Train Acc (Test Acc): 80.00 (89.60)\n",
      "Generation # 280. Train Loss: 0.27. Train Acc (Test Acc): 92.00 (85.80)\n",
      "Generation # 285. Train Loss: 0.27. Train Acc (Test Acc): 89.00 (86.60)\n",
      "Generation # 290. Train Loss: 0.33. Train Acc (Test Acc): 90.00 (85.40)\n",
      "Generation # 295. Train Loss: 0.59. Train Acc (Test Acc): 80.00 (85.00)\n",
      "Generation # 300. Train Loss: 0.45. Train Acc (Test Acc): 84.00 (84.60)\n",
      "Generation # 305. Train Loss: 0.33. Train Acc (Test Acc): 89.00 (89.40)\n",
      "Generation # 310. Train Loss: 0.46. Train Acc (Test Acc): 85.00 (85.00)\n",
      "Generation # 315. Train Loss: 0.33. Train Acc (Test Acc): 87.00 (87.00)\n",
      "Generation # 320. Train Loss: 0.36. Train Acc (Test Acc): 88.00 (83.00)\n",
      "Generation # 325. Train Loss: 0.45. Train Acc (Test Acc): 86.00 (83.80)\n",
      "Generation # 330. Train Loss: 0.36. Train Acc (Test Acc): 90.00 (85.80)\n",
      "Generation # 335. Train Loss: 0.38. Train Acc (Test Acc): 86.00 (86.80)\n",
      "Generation # 340. Train Loss: 0.48. Train Acc (Test Acc): 81.00 (85.40)\n",
      "Generation # 345. Train Loss: 0.50. Train Acc (Test Acc): 85.00 (87.20)\n",
      "Generation # 350. Train Loss: 0.62. Train Acc (Test Acc): 81.00 (86.40)\n",
      "Generation # 355. Train Loss: 0.51. Train Acc (Test Acc): 82.00 (86.00)\n",
      "Generation # 360. Train Loss: 0.48. Train Acc (Test Acc): 80.00 (86.40)\n",
      "Generation # 365. Train Loss: 0.53. Train Acc (Test Acc): 78.00 (87.80)\n",
      "Generation # 370. Train Loss: 0.21. Train Acc (Test Acc): 93.00 (86.80)\n",
      "Generation # 375. Train Loss: 0.36. Train Acc (Test Acc): 88.00 (88.00)\n",
      "Generation # 380. Train Loss: 0.38. Train Acc (Test Acc): 90.00 (86.20)\n",
      "Generation # 385. Train Loss: 0.37. Train Acc (Test Acc): 87.00 (84.40)\n",
      "Generation # 390. Train Loss: 0.39. Train Acc (Test Acc): 82.00 (87.00)\n",
      "Generation # 395. Train Loss: 0.42. Train Acc (Test Acc): 83.00 (87.80)\n",
      "Generation # 400. Train Loss: 0.35. Train Acc (Test Acc): 87.00 (87.60)\n",
      "Generation # 405. Train Loss: 0.42. Train Acc (Test Acc): 84.00 (88.60)\n",
      "Generation # 410. Train Loss: 0.39. Train Acc (Test Acc): 88.00 (88.20)\n",
      "Generation # 415. Train Loss: 0.46. Train Acc (Test Acc): 85.00 (85.40)\n",
      "Generation # 420. Train Loss: 0.44. Train Acc (Test Acc): 83.00 (86.40)\n",
      "Generation # 425. Train Loss: 0.44. Train Acc (Test Acc): 84.00 (86.60)\n",
      "Generation # 430. Train Loss: 0.47. Train Acc (Test Acc): 82.00 (87.80)\n",
      "Generation # 435. Train Loss: 0.55. Train Acc (Test Acc): 80.00 (88.20)\n",
      "Generation # 440. Train Loss: 0.36. Train Acc (Test Acc): 87.00 (87.00)\n",
      "Generation # 445. Train Loss: 0.16. Train Acc (Test Acc): 94.00 (88.00)\n",
      "Generation # 450. Train Loss: 0.51. Train Acc (Test Acc): 84.00 (87.20)\n",
      "Generation # 455. Train Loss: 0.37. Train Acc (Test Acc): 88.00 (85.60)\n",
      "Generation # 460. Train Loss: 0.47. Train Acc (Test Acc): 82.00 (85.80)\n",
      "Generation # 465. Train Loss: 0.59. Train Acc (Test Acc): 78.00 (86.60)\n",
      "Generation # 470. Train Loss: 0.33. Train Acc (Test Acc): 87.00 (86.80)\n",
      "Generation # 475. Train Loss: 0.40. Train Acc (Test Acc): 86.00 (88.60)\n",
      "Generation # 480. Train Loss: 0.32. Train Acc (Test Acc): 87.00 (89.40)\n",
      "Generation # 485. Train Loss: 0.20. Train Acc (Test Acc): 95.00 (91.00)\n",
      "Generation # 490. Train Loss: 0.33. Train Acc (Test Acc): 89.00 (93.00)\n",
      "Generation # 495. Train Loss: 0.16. Train Acc (Test Acc): 96.00 (94.00)\n",
      "Generation # 500. Train Loss: 0.13. Train Acc (Test Acc): 95.00 (95.00)\n"
     ]
    }
   ],
   "source": [
    "# Start training loop\n",
    "train_loss = []\n",
    "train_acc = []\n",
    "test_acc = []\n",
    "for i in range(generations):\n",
    "    rand_index = np.random.choice(len(train_xdata), size=batch_size)\n",
    "    rand_x = train_xdata[rand_index]\n",
    "    rand_x = np.expand_dims(rand_x, 3)\n",
    "    rand_y = train_lables[rand_index]\n",
    "    train_dict = {x_input: rand_x, y_target: rand_y}\n",
    "    \n",
    "    sess.run(train_step, feed_dict=train_dict)\n",
    "    temp_train_loss, temp_train_preds = sess.run([loss, prediction], feed_dict=train_dict)\n",
    "    temp_train_acc = get_accuracy(temp_train_preds, rand_y)\n",
    "    \n",
    "    if (i+1) % eval_every == 0:\n",
    "        eval_index = np.random.choice(len(test_xdata), size=evaluation_size)\n",
    "        eval_x = test_xdata[eval_index]\n",
    "        eval_x = np.expand_dims(eval_x, 3)\n",
    "        eval_y = test_lables[eval_index]\n",
    "        test_dict = {eval_input: eval_x, eval_target: eval_y}\n",
    "        test_preds = sess.run(test_prediction, feed_dict=test_dict)\n",
    "        temp_test_acc = get_accuracy(test_preds, eval_y)\n",
    "        \n",
    "        # Record and print results\n",
    "        train_loss.append(temp_train_loss)\n",
    "        train_acc.append(temp_train_acc)\n",
    "        test_acc.append(temp_test_acc)\n",
    "        acc_and_loss = [(i+1), temp_train_loss, temp_train_acc, temp_test_acc]\n",
    "        acc_and_loss = [np.round(x,2) for x in acc_and_loss]\n",
    "        print('Generation # {}. Train Loss: {:.2f}. Train Acc (Test Acc): {:.2f} ({:.2f})'.format(*acc_and_loss))\n",
    "    "
   ]
  },
  {
   "cell_type": "code",
   "execution_count": 23,
   "metadata": {},
   "outputs": [
    {
     "data": {
      "image/png": "[encoded data removed]",
      "text/plain": [
       "<Figure size 432x288 with 1 Axes>"
      ]
     },
     "metadata": {
      "needs_background": "light"
     },
     "output_type": "display_data"
    }
   ],
   "source": [
    "#Matlotlib code to plot the loss and accuracies\n",
    "eval_indices = range(0, generations, eval_every)\n",
    "# Plot loss over time\n",
    "plt.plot(eval_indices, train_loss, 'k-')\n",
    "plt.title('Softmax Loss per Generation')\n",
    "plt.xlabel('Generation')\n",
    "plt.ylabel('Softmax Loss')\n",
    "plt.show()"
   ]
  },
  {
   "cell_type": "code",
   "execution_count": 24,
   "metadata": {},
   "outputs": [
    {
     "data": {
      "image/png": "[encoded data removed]",
      "text/plain": [
       "<Figure size 432x288 with 1 Axes>"
      ]
     },
     "metadata": {
      "needs_background": "light"
     },
     "output_type": "display_data"
    }
   ],
   "source": [
    "# Plot train and test accuracy\n",
    "plt.plot(eval_indices, train_acc, 'k-', label='Train Set Accuracy')\n",
    "plt.plot(eval_indices, test_acc, 'r--', label='Test Set Accuracy')\n",
    "plt.title('Train and Test Accuracy')\n",
    "plt.xlabel('Generation')\n",
    "plt.ylabel('Accuracy')\n",
    "plt.legend(loc='lower right')\n",
    "plt.show()"
   ]
  },
  {
   "cell_type": "code",
   "execution_count": null,
   "metadata": {},
   "outputs": [],
   "source": []
  }
 ],
 "metadata": {
  "kernelspec": {
   "display_name": "Python 3",
   "language": "python",
   "name": "python3"
  },
  "language_info": {
   "codemirror_mode": {
    "name": "ipython",
    "version": 3
   },
   "file_extension": ".py",
   "mimetype": "text/x-python",
   "name": "python",
   "nbconvert_exporter": "python",
   "pygments_lexer": "ipython3",
   "version": "3.7.3"
  }
 },
 "nbformat": 4,
 "nbformat_minor": 2
}
